{
 "cells": [
  {
   "cell_type": "code",
   "execution_count": 1,
   "id": "a3f611ad",
   "metadata": {},
   "outputs": [],
   "source": [
    "from tensorflow.keras.preprocessing.image import ImageDataGenerator\n",
    "train_datagen=ImageDataGenerator(rescale=1./255,zoom_range=0.2,horizontal_flip=True,vertical_flip=False)\n",
    "test_datagen=ImageDataGenerator(rescale=1./255)"
   ]
  },
  {
   "cell_type": "code",
   "execution_count": 2,
   "id": "3a13dc97",
   "metadata": {},
   "outputs": [
    {
     "name": "stdout",
     "output_type": "stream",
     "text": [
      "Found 5384 images belonging to 6 classes.\n"
     ]
    }
   ],
   "source": [
    "x_train=train_datagen.flow_from_directory(r\"C:\\Users\\Divya Nitheyan\\Downloads\\Fertilizers_Recommendation\\DatasetPlantDisease\\fruit-dataset\\fruit-dataset\\train\",target_size=(128,128),\n",
    "                                        class_mode='categorical',batch_size=24)"
   ]
  },
  {
   "cell_type": "code",
   "execution_count": 4,
   "id": "8d5a8ff4",
   "metadata": {},
   "outputs": [
    {
     "name": "stdout",
     "output_type": "stream",
     "text": [
      "Found 1686 images belonging to 6 classes.\n"
     ]
    }
   ],
   "source": [
    "x_test=test_datagen.flow_from_directory(r\"C:\\Users\\Divya Nitheyan\\Downloads\\Fertilizers_Recommendation\\DatasetPlantDisease\\fruit-dataset\\fruit-dataset\\test\",target_size=(128,128),\n",
    "                                        class_mode='categorical',batch_size=24)"
   ]
  },
  {
   "cell_type": "code",
   "execution_count": 5,
   "id": "09ade453",
   "metadata": {},
   "outputs": [],
   "source": [
    "from tensorflow.keras.models import Sequential\n",
    "from tensorflow.keras.layers import Dense,Convolution2D,MaxPooling2D,Flatten"
   ]
  },
  {
   "cell_type": "code",
   "execution_count": 6,
   "id": "acf611f9",
   "metadata": {},
   "outputs": [],
   "source": [
    "model=Sequential()\n",
    "model.add(Convolution2D(32,(3,3),input_shape=(128,128,3),activation='relu'))"
   ]
  },
  {
   "cell_type": "code",
   "execution_count": 7,
   "id": "ac760cf1",
   "metadata": {},
   "outputs": [
    {
     "name": "stdout",
     "output_type": "stream",
     "text": [
      "Model: \"sequential\"\n",
      "_________________________________________________________________\n",
      " Layer (type)                Output Shape              Param #   \n",
      "=================================================================\n",
      " conv2d (Conv2D)             (None, 126, 126, 32)      896       \n",
      "                                                                 \n",
      " max_pooling2d (MaxPooling2D  (None, 63, 63, 32)       0         \n",
      " )                                                               \n",
      "                                                                 \n",
      " flatten (Flatten)           (None, 127008)            0         \n",
      "                                                                 \n",
      "=================================================================\n",
      "Total params: 896\n",
      "Trainable params: 896\n",
      "Non-trainable params: 0\n",
      "_________________________________________________________________\n"
     ]
    }
   ],
   "source": [
    "model.add(MaxPooling2D(pool_size=(2,2)))\n",
    "model.add(Flatten())\n",
    "model.summary()"
   ]
  },
  {
   "cell_type": "code",
   "execution_count": 9,
   "id": "217d854c",
   "metadata": {},
   "outputs": [
    {
     "data": {
      "text/plain": [
       "225"
      ]
     },
     "execution_count": 9,
     "metadata": {},
     "output_type": "execute_result"
    }
   ],
   "source": [
    "\n",
    "model.add(Dense(300,activation='relu'))\n",
    "model.add(Dense(150,activation='relu'))\n",
    "model.add(Dense(6,activation='softmax'))\n",
    "model.compile(loss='categorical_crossentropy',optimizer='adam',metrics=['accuracy'])\n",
    "len(x_train)"
   ]
  },
  {
   "cell_type": "code",
   "execution_count": 11,
   "id": "1f0347ec",
   "metadata": {},
   "outputs": [
    {
     "name": "stdout",
     "output_type": "stream",
     "text": [
      "Epoch 1/2\n",
      "225/225 [==============================] - 237s 1s/step - loss: 1.6474 - accuracy: 0.3351 - val_loss: 1.6580 - val_accuracy: 0.2924\n",
      "Epoch 2/2\n",
      "225/225 [==============================] - 121s 537ms/step - loss: 1.6461 - accuracy: 0.3351 - val_loss: 1.6608 - val_accuracy: 0.2924\n"
     ]
    },
    {
     "data": {
      "text/plain": [
       "<keras.callbacks.History at 0x22b81c7d820>"
      ]
     },
     "execution_count": 11,
     "metadata": {},
     "output_type": "execute_result"
    }
   ],
   "source": [
    "model.fit(x_train,steps_per_epoch=len(x_train),validation_data=x_test,validation_steps=len(x_test),epochs=2)"
   ]
  },
  {
   "cell_type": "code",
   "execution_count": 12,
   "id": "ac0ce702",
   "metadata": {},
   "outputs": [],
   "source": [
    "model.save('fruitdata.h5')"
   ]
  },
  {
   "cell_type": "code",
   "execution_count": 13,
   "id": "56b2a6e1",
   "metadata": {},
   "outputs": [],
   "source": [
    "import numpy as np\n",
    "from tensorflow.keras.models import load_model\n",
    "from tensorflow.keras.preprocessing import image"
   ]
  },
  {
   "cell_type": "code",
   "execution_count": 14,
   "id": "cc342337",
   "metadata": {},
   "outputs": [],
   "source": [
    "model=load_model('fruitdata.h5')"
   ]
  },
  {
   "cell_type": "code",
   "execution_count": 17,
   "id": "b297aae1",
   "metadata": {},
   "outputs": [
    {
     "data": {
      "image/png": "[encoded data removed]",
      "text/plain": [
       "<PIL.Image.Image image mode=RGB size=128x128 at 0x22B82650D60>"
      ]
     },
     "execution_count": 17,
     "metadata": {},
     "output_type": "execute_result"
    }
   ],
   "source": [
    "img=image.load_img(r\"C:\\Users\\Divya Nitheyan\\Downloads\\Fertilizers_Recommendation\\DatasetPlantDisease\\fruit-dataset\\fruit-dataset\\train\\Apple___healthy\\26e85922-aaf1-4cc6-8bdb-2fb0222a4b8c___RS_HL 7624.jpg\",target_size=(128,128))\n",
    "img"
   ]
  },
  {
   "cell_type": "code",
   "execution_count": 18,
   "id": "7cccb831",
   "metadata": {},
   "outputs": [
    {
     "data": {
      "text/plain": [
       "array([[[172., 188., 214.],\n",
       "        [166., 182., 208.],\n",
       "        [170., 186., 212.],\n",
       "        ...,\n",
       "        [161., 176., 205.],\n",
       "        [160., 175., 204.],\n",
       "        [165., 180., 209.]],\n",
       "\n",
       "       [[168., 184., 210.],\n",
       "        [170., 186., 212.],\n",
       "        [175., 191., 217.],\n",
       "        ...,\n",
       "        [166., 181., 210.],\n",
       "        [165., 180., 209.],\n",
       "        [167., 182., 211.]],\n",
       "\n",
       "       [[169., 185., 211.],\n",
       "        [170., 186., 212.],\n",
       "        [174., 190., 216.],\n",
       "        ...,\n",
       "        [164., 179., 208.],\n",
       "        [162., 177., 206.],\n",
       "        [165., 180., 209.]],\n",
       "\n",
       "       ...,\n",
       "\n",
       "       [[ 93.,  92., 124.],\n",
       "        [127., 126., 158.],\n",
       "        [100.,  99., 131.],\n",
       "        ...,\n",
       "        [110., 117., 146.],\n",
       "        [108., 115., 144.],\n",
       "        [111., 118., 147.]],\n",
       "\n",
       "       [[135., 134., 166.],\n",
       "        [121., 120., 152.],\n",
       "        [ 96.,  95., 127.],\n",
       "        ...,\n",
       "        [111., 118., 147.],\n",
       "        [103., 110., 139.],\n",
       "        [117., 124., 153.]],\n",
       "\n",
       "       [[ 78.,  77., 109.],\n",
       "        [110., 109., 141.],\n",
       "        [114., 113., 145.],\n",
       "        ...,\n",
       "        [ 99., 106., 135.],\n",
       "        [104., 111., 140.],\n",
       "        [108., 115., 144.]]], dtype=float32)"
      ]
     },
     "execution_count": 18,
     "metadata": {},
     "output_type": "execute_result"
    }
   ],
   "source": [
    "x=image.img_to_array(img)\n",
    "x"
   ]
  },
  {
   "cell_type": "code",
   "execution_count": 19,
   "id": "60c2ef3c",
   "metadata": {},
   "outputs": [
    {
     "data": {
      "text/plain": [
       "array([[[[172., 188., 214.],\n",
       "         [166., 182., 208.],\n",
       "         [170., 186., 212.],\n",
       "         ...,\n",
       "         [161., 176., 205.],\n",
       "         [160., 175., 204.],\n",
       "         [165., 180., 209.]],\n",
       "\n",
       "        [[168., 184., 210.],\n",
       "         [170., 186., 212.],\n",
       "         [175., 191., 217.],\n",
       "         ...,\n",
       "         [166., 181., 210.],\n",
       "         [165., 180., 209.],\n",
       "         [167., 182., 211.]],\n",
       "\n",
       "        [[169., 185., 211.],\n",
       "         [170., 186., 212.],\n",
       "         [174., 190., 216.],\n",
       "         ...,\n",
       "         [164., 179., 208.],\n",
       "         [162., 177., 206.],\n",
       "         [165., 180., 209.]],\n",
       "\n",
       "        ...,\n",
       "\n",
       "        [[ 93.,  92., 124.],\n",
       "         [127., 126., 158.],\n",
       "         [100.,  99., 131.],\n",
       "         ...,\n",
       "         [110., 117., 146.],\n",
       "         [108., 115., 144.],\n",
       "         [111., 118., 147.]],\n",
       "\n",
       "        [[135., 134., 166.],\n",
       "         [121., 120., 152.],\n",
       "         [ 96.,  95., 127.],\n",
       "         ...,\n",
       "         [111., 118., 147.],\n",
       "         [103., 110., 139.],\n",
       "         [117., 124., 153.]],\n",
       "\n",
       "        [[ 78.,  77., 109.],\n",
       "         [110., 109., 141.],\n",
       "         [114., 113., 145.],\n",
       "         ...,\n",
       "         [ 99., 106., 135.],\n",
       "         [104., 111., 140.],\n",
       "         [108., 115., 144.]]]], dtype=float32)"
      ]
     },
     "execution_count": 19,
     "metadata": {},
     "output_type": "execute_result"
    }
   ],
   "source": [
    "x=np.expand_dims(x,axis=0)\n",
    "x"
   ]
  },
  {
   "cell_type": "code",
   "execution_count": 20,
   "id": "0e81f45e",
   "metadata": {},
   "outputs": [
    {
     "name": "stdout",
     "output_type": "stream",
     "text": [
      "1/1 [==============================] - 1s 1s/step\n"
     ]
    }
   ],
   "source": [
    "y=np.argmax(model.predict(x),axis=1)"
   ]
  },
  {
   "cell_type": "code",
   "execution_count": 21,
   "id": "910cb8d4",
   "metadata": {},
   "outputs": [
    {
     "data": {
      "text/plain": [
       "{'Apple___Black_rot': 0,\n",
       " 'Apple___healthy': 1,\n",
       " 'Corn_(maize)___Northern_Leaf_Blight': 2,\n",
       " 'Corn_(maize)___healthy': 3,\n",
       " 'Peach___Bacterial_spot': 4,\n",
       " 'Peach___healthy': 5}"
      ]
     },
     "execution_count": 21,
     "metadata": {},
     "output_type": "execute_result"
    }
   ],
   "source": [
    "x_train.class_indices"
   ]
  },
  {
   "cell_type": "code",
   "execution_count": 22,
   "id": "07f9d0c2",
   "metadata": {},
   "outputs": [
    {
     "data": {
      "text/plain": [
       "'Peach___Bacterial_spot'"
      ]
     },
     "execution_count": 22,
     "metadata": {},
     "output_type": "execute_result"
    }
   ],
   "source": [
    "index=['Apple___Black_rot','Apple___healthy','Corn_(maize)___Northern_Leaf_Blight','Corn_(maize)___healthy','Peach___Bacterial_spot','Peach___healthy']\n",
    "index[y[0]]"
   ]
  },
  {
   "cell_type": "code",
   "execution_count": 26,
   "id": "b9ecd4e5",
   "metadata": {},
   "outputs": [
    {
     "name": "stdout",
     "output_type": "stream",
     "text": [
      "1/1 [==============================] - 0s 96ms/step\n"
     ]
    },
    {
     "data": {
      "text/plain": [
       "'Peach___Bacterial_spot'"
      ]
     },
     "execution_count": 26,
     "metadata": {},
     "output_type": "execute_result"
    }
   ],
   "source": [
    "img=image.load_img(r\"C:\\Users\\Divya Nitheyan\\Downloads\\Fertilizers_Recommendation\\DatasetPlantDisease\\fruit-dataset\\fruit-dataset\\test\\Corn_(maize)___healthy\\0d27e784-5661-4474-9806-3453c7ef3bf5___R.S_HL 5511 copy.jpg\",target_size=(128,128))\n",
    "x=image.img_to_array(img)\n",
    "x=np.expand_dims(x,axis=0)\n",
    "y=np.argmax(model.predict(x),axis=1)\n",
    "index=['Apple___Black_rot','Apple___healthy','Corn_(maize)___Northern_Leaf_Blight','Corn_(maize)___healthy','Peach___Bacterial_spot','Peach___healthy']\n",
    "index[y[0]]"
   ]
  },
  {
   "cell_type": "code",
   "execution_count": null,
   "id": "32aa8a9e",
   "metadata": {},
   "outputs": [],
   "source": []
  }
 ],
 "metadata": {
  "kernelspec": {
   "display_name": "Python 3 (ipykernel)",
   "language": "python",
   "name": "python3"
  },
  "language_info": {
   "codemirror_mode": {
    "name": "ipython",
    "version": 3
   },
   "file_extension": ".py",
   "mimetype": "text/x-python",
   "name": "python",
   "nbconvert_exporter": "python",
   "pygments_lexer": "ipython3",
   "version": "3.9.12"
  }
 },
 "nbformat": 4,
 "nbformat_minor": 5
}
